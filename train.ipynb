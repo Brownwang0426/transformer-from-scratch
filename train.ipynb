{
  "cells": [
    {
      "cell_type": "markdown",
      "metadata": {
        "colab_type": "text",
        "id": "view-in-github"
      },
      "source": [
        "<a href=\"https://colab.research.google.com/github/Brownwang0426/transformer-from-scratch/blob/main/train.ipynb\" target=\"_parent\"><img src=\"https://colab.research.google.com/assets/colab-badge.svg\" alt=\"Open In Colab\"/></a>"
      ]
    },
    {
      "cell_type": "markdown",
      "metadata": {
        "id": "PhgpT8hhhhLd"
      },
      "source": [
        "# 手刻簡單的文字生成 transformer\n",
        "\n",
        "示範如何純粹用 pytorch 手刻一個簡單的文字生成 transformer \\\n",
        "並強化自己對於 transformer 的理解以及操作能力 \\\n",
        "如果有機會，未來會再增加 numpy 版本，並且使用 numpy 手刻 error back-propagation\n",
        "\n"
      ]
    },
    {
      "cell_type": "markdown",
      "metadata": {
        "id": "vZQm4saPhUYV"
      },
      "source": [
        "# For colab"
      ]
    },
    {
      "cell_type": "code",
      "execution_count": null,
      "metadata": {
        "id": "kVZs5loNPbPn"
      },
      "outputs": [],
      "source": [
        "!git clone https://github.com/Brownwang0426/transformer-from-scratch.git"
      ]
    },
    {
      "cell_type": "code",
      "execution_count": null,
      "metadata": {
        "id": "hj-G_J3dPbPo"
      },
      "outputs": [],
      "source": [
        "import os\n",
        "os.chdir('/content/transformer-from-scratch')"
      ]
    },
    {
      "cell_type": "code",
      "execution_count": null,
      "metadata": {
        "id": "kdyb1d_hcml8"
      },
      "outputs": [],
      "source": [
        "!pip install torch dill datasets tqdm numpy IPython"
      ]
    },
    {
      "cell_type": "markdown",
      "metadata": {
        "id": "rZCN3-VOhY-M"
      },
      "source": [
        "# For local\n",
        "CUDA Toolkit 11.8 \\\n",
        "cuDNN 8.9.x \\\n",
        "pip install torch==2.0.1 --extra-index-url https://download.pytorch.org/whl/cu118  \n",
        "其餘套件可自行下載"
      ]
    },
    {
      "cell_type": "markdown",
      "metadata": {
        "id": "z6kEiLW6f-v2"
      },
      "source": [
        "# 導入官方套件"
      ]
    },
    {
      "cell_type": "code",
      "execution_count": null,
      "metadata": {
        "id": "mVWhBy17f-v3"
      },
      "outputs": [],
      "source": [
        "import numpy as np\n",
        "import math\n",
        "import re\n",
        "\n",
        "import torch\n",
        "import torch.optim as optim\n",
        "import torch.nn as nn\n",
        "import torch.nn.functional as F\n",
        "import torch.nn.utils.rnn as rnn_utils\n",
        "from torch.utils.data import DataLoader, TensorDataset, Subset\n",
        "\n",
        "import csv\n",
        "\n",
        "import multiprocessing as mp\n",
        "import os\n",
        "import sys\n",
        "import copy\n",
        "import random\n",
        "import gc\n",
        "import time\n",
        "from tqdm import tqdm\n",
        "from collections import defaultdict\n",
        "\n",
        "import itertools\n",
        "\n",
        "import dill\n",
        "\n",
        "import warnings\n",
        "warnings.filterwarnings('ignore')\n",
        "\n",
        "from datasets import load_dataset\n",
        "\n",
        "import torch\n",
        "from transformers import BertTokenizer, BertModel, AutoTokenizer, AutoModel, AutoModelForCausalLM\n",
        "import numpy as np\n",
        "\n",
        "from IPython.display import display, clear_output\n",
        "import gc"
      ]
    },
    {
      "cell_type": "markdown",
      "metadata": {
        "id": "wT-dGum0chjy"
      },
      "source": [
        "# 導入客製化套件"
      ]
    },
    {
      "cell_type": "code",
      "execution_count": null,
      "metadata": {
        "id": "MdLUtG5nchj0"
      },
      "outputs": [],
      "source": [
        "from model import *"
      ]
    },
    {
      "cell_type": "markdown",
      "metadata": {
        "id": "ElhExcVoSxd7"
      },
      "source": [
        "# 確認有無讀取到 cuda"
      ]
    },
    {
      "cell_type": "code",
      "execution_count": null,
      "metadata": {
        "id": "Aj5V_vlwSxd8"
      },
      "outputs": [],
      "source": [
        "if torch.cuda.is_available():\n",
        "    for i in range(torch.cuda.device_count()):\n",
        "        print(f\"Device {i}: {torch.cuda.get_device_name(i)}\")\n",
        "    device_index = 0\n",
        "    device = torch.device(f\"cuda:{device_index}\")\n",
        "    print('using cuda...')\n",
        "else:\n",
        "    device = torch.device(\"cpu\")\n",
        "    print('using cpu...')\n",
        "\n",
        "torch.backends.cudnn.enabled = True\n",
        "torch.backends.cudnn.benchmark = True"
      ]
    },
    {
      "cell_type": "markdown",
      "metadata": {
        "id": "b9ACgMI7chj6"
      },
      "source": [
        "# 參數區域"
      ]
    },
    {
      "cell_type": "code",
      "execution_count": null,
      "metadata": {
        "id": "Q7t3r9iQVLrn"
      },
      "outputs": [],
      "source": [
        "# 其他可以用的有 squad  natural_questions persona_chat daily_dialog\n",
        "source =  \"knkarthick/samsum\""
      ]
    },
    {
      "cell_type": "code",
      "execution_count": null,
      "metadata": {
        "id": "KmtYCrXKVLrn"
      },
      "outputs": [],
      "source": [
        "\n",
        "# 初始化 BERT tokenizer 和 vectorizer\n",
        "tokenizer  = AutoTokenizer.from_pretrained(\"gpt2\")\n",
        "tokenizer.pad_token = tokenizer.eos_token\n",
        "vectorizer = AutoModelForCausalLM.from_pretrained(\"gpt2\", output_hidden_states=True).to(device)\n",
        "\n",
        "# 每個樣本要看多長的字\n",
        "max_length = 512\n",
        "\n",
        "\n",
        "\n"
      ]
    },
    {
      "cell_type": "code",
      "execution_count": null,
      "metadata": {
        "id": "AcDtqnZ-chj7"
      },
      "outputs": [],
      "source": [
        "\n",
        "# 要進行幾回合的訓練\n",
        "num_epochs = 10000000\n",
        "\n",
        "# 每回合要隨機抽取多少 QA 並從中隨機抽取 tensor\n",
        "sample_size = 100\n",
        "\n",
        "# 訓練相關參數\n",
        "batch_size = 1\n",
        "\n",
        "\n"
      ]
    },
    {
      "cell_type": "code",
      "execution_count": null,
      "metadata": {
        "id": "JIWY3GRqchj8"
      },
      "outputs": [],
      "source": [
        "\n",
        "# 是否讀取之前訓練的模型\n",
        "retrain = True\n",
        "\n",
        "# 模型相關參數\n",
        "sequence_size = max_length\n",
        "feature_size = vectorizer.config.hidden_size\n",
        "output_size = tokenizer.vocab_size\n",
        "num_layers = 6\n",
        "num_heads = 8\n",
        "hidden_activation = 'gelu'\n",
        "output_activation = None\n",
        "initializer = \"xavier_normal\"\n",
        "optimizer = 'adamw'\n",
        "loss = 'crossentropy'\n",
        "bias = True\n",
        "drop_rate = 0.1\n",
        "alpha = 0.00001\n",
        "\n",
        "# 存檔區域\n",
        "model_directory = f'model.pth'\n",
        "optimizer_directory = f'optimizer.pth'"
      ]
    },
    {
      "cell_type": "code",
      "execution_count": null,
      "metadata": {
        "id": "WxQLkClpepJM"
      },
      "outputs": [],
      "source": [
        "# 機器回覆你的時候，要用多少個字（當沒有結束標記出現的時候）\n",
        "response_length = 50"
      ]
    },
    {
      "cell_type": "markdown",
      "metadata": {
        "id": "-C7Lo0AWchj8"
      },
      "source": [
        "# 建立模型"
      ]
    },
    {
      "cell_type": "code",
      "execution_count": null,
      "metadata": {
        "id": "GFBrvqtIchj9"
      },
      "outputs": [],
      "source": [
        "\n",
        "# 建立模型\n",
        "model = build_model(sequence_size,\n",
        "                    feature_size,\n",
        "                    output_size,\n",
        "                    num_layers,\n",
        "                    num_heads,\n",
        "                    hidden_activation,\n",
        "                    output_activation,\n",
        "                    initializer,\n",
        "                    optimizer,\n",
        "                    loss,\n",
        "                    bias,\n",
        "                    drop_rate,\n",
        "                    alpha)\n",
        "\n",
        "# 將模型放到 cuda\n",
        "model = model.to(device)\n",
        "\n",
        "# 讀取參數\n",
        "if retrain:\n",
        "    try:\n",
        "        model_dict = torch.load(model_directory)\n",
        "        model.load_state_dict(model_dict)\n",
        "        optimizer_dict = torch.load(optimizer_directory)\n",
        "        model.optimizer.load_state_dict(optimizer_dict)\n",
        "        print('Model loaded.')\n",
        "    except:\n",
        "        print('Model not loaded. Now using new model.')\n",
        "        pass"
      ]
    },
    {
      "cell_type": "code",
      "execution_count": null,
      "metadata": {
        "id": "U0QnUVhHfCmQ"
      },
      "outputs": [],
      "source": [
        "total_params = sum(p.numel() for p in model.parameters())\n",
        "print(f\"Total params: {total_params / 1e6:.2f} million\")"
      ]
    },
    {
      "cell_type": "markdown",
      "metadata": {
        "id": "LDu9hgebchj9"
      },
      "source": [
        "# 準備資料"
      ]
    },
    {
      "cell_type": "code",
      "execution_count": null,
      "metadata": {
        "id": "Pjoc3YSYchj-"
      },
      "outputs": [],
      "source": [
        "# 定義 function\n",
        "def create_dataset(input_vectors, input_ids, attention_masks, device):\n",
        "\n",
        "    final_input  = []\n",
        "    final_label  = []\n",
        "    final_long   = []\n",
        "\n",
        "    for i in tqdm(range(input_vectors.size(0))):\n",
        "\n",
        "        # attention_mask = torch.zeros_like(attention_masks[i]).to(device)\n",
        "        # attention_mask[:torch.sum(attention_masks[i]) ] = 1\n",
        "\n",
        "        input = input_vectors[i] #* attention_mask.unsqueeze(1)\n",
        "        final_input.append(input)\n",
        "        \n",
        "        label = torch.cat((input_ids[i][1:], torch.tensor([50256]).to(device)))  # 50256 is the end-of-text token for GPT-2\n",
        "        final_label.append(label)\n",
        "\n",
        "    final_input  = torch.stack(final_input , dim=0).to(device)\n",
        "    final_label  = torch.stack(final_label , dim=0).to(device)\n",
        "\n",
        "    return final_input, final_label"
      ]
    },
    {
      "cell_type": "code",
      "execution_count": null,
      "metadata": {
        "id": "3BId7urOfCmQ"
      },
      "outputs": [],
      "source": [
        "\n",
        "dataset = load_dataset(source, trust_remote_code=True)\n",
        "\n",
        "sentences = []\n",
        "for _ in tqdm(range(100)):\n",
        "    for d in dataset[\"train\"]:\n",
        "        if d[\"dialogue\"]:\n",
        "\n",
        "            lines = d['dialogue'].split(\"\\n\")\n",
        "            max_len = len(lines)\n",
        "            random_start = np.random.randint(max_len - 1)\n",
        "            lines = lines[random_start:random_start + 2]\n",
        "            cleaned = [re.sub(r\"^\\s*[A-Z][a-z]+:\\s*\", \"\", line) for line in lines]\n",
        "            dialog = \" <|endoftext|> \".join(cleaned)\n",
        "            # 用完整對話 + 摘要訓練\n",
        "            text = f\"{dialog}  <|endoftext|>\"\n",
        "            sentences.append(text)"
      ]
    },
    {
      "cell_type": "code",
      "execution_count": null,
      "metadata": {
        "id": "5mAO6N2LfCmQ"
      },
      "outputs": [],
      "source": [
        "print(f\"Total samples: {len(sentences)}\")"
      ]
    },
    {
      "cell_type": "code",
      "execution_count": null,
      "metadata": {},
      "outputs": [],
      "source": [
        "print(sentences[:5])"
      ]
    },
    {
      "cell_type": "markdown",
      "metadata": {
        "id": "bxxxhdjmfCmQ"
      },
      "source": [
        "# 訓練模型"
      ]
    },
    {
      "cell_type": "code",
      "execution_count": null,
      "metadata": {
        "id": "0chhWYKWchj-"
      },
      "outputs": [],
      "source": [
        "\n",
        "\n",
        "\n",
        "# 開始抽取資料\n",
        "for epoch in range(num_epochs):\n",
        "\n",
        "\n",
        "\n",
        "\n",
        "    # 隨機打亂 QA\n",
        "    random.shuffle(sentences)\n",
        "\n",
        "    # 將 QA tokenize \n",
        "    tokenized_sentences = tokenizer(sentences[:sample_size],\n",
        "                                    add_special_tokens=False,\n",
        "                                    padding='max_length',\n",
        "                                    max_length=max_length,\n",
        "                                    truncation=True,\n",
        "                                    return_tensors=\"pt\")\n",
        "\n",
        "    # 將 QA vectorize\n",
        "    input_ids           = tokenized_sentences['input_ids'].to(device)\n",
        "    attention_masks     = tokenized_sentences['attention_mask'].to(device)\n",
        "    with torch.no_grad():\n",
        "        input_vectors   = vectorizer(input_ids).hidden_states[-1]\n",
        "        input_vectors   = input_vectors.to(device)\n",
        "\n",
        "    # 生成 tensor 訓練集\n",
        "    final_input, final_label = create_dataset(input_vectors, input_ids, attention_masks, device)\n",
        "\n",
        "\n",
        "\n",
        "\n",
        "    # 彙整 tensor 訓練集\n",
        "    dataset         = TensorDataset(final_input, final_label)\n",
        "    dataloader      = DataLoader(dataset, batch_size=batch_size, shuffle=True)\n",
        "\n",
        "    # 訓練模型\n",
        "    model.train()\n",
        "\n",
        "    running_loss = 0.0\n",
        "\n",
        "    # clear_output(wait=True)  # Clear the previous output\n",
        "    \n",
        "    for batch_idx, (input, label) in tqdm(enumerate(dataloader), total=len(dataloader), desc=\"Training Progress\", ncols=100, unit=\"batch\"):\n",
        "\n",
        "        optimizer = model.optimizer\n",
        "        optimizer.zero_grad()\n",
        "\n",
        "        loss_function   = model.loss_function\n",
        "        output          = model(input)\n",
        "        loss            = loss_function(output.view(-1, output_size), label.view(-1))\n",
        "        loss.backward()     # get grad\n",
        "\n",
        "        optimizer.step()    # update params\n",
        "\n",
        "        running_loss += loss.item()\n",
        "\n",
        "    epoch_loss = running_loss / len(dataloader)\n",
        "    print(f\"Epoch [{epoch+1}/{num_epochs}] finished. Average Loss: {epoch_loss:.4f}\")\n",
        "    # display()  # Display the updated output\n",
        "\n",
        "    model_dict     = model.state_dict()\n",
        "    optimizer_dict = optimizer.state_dict()\n",
        "    torch.save(model_dict, model_directory)\n",
        "    torch.save(optimizer_dict, optimizer_directory)\n",
        "\n",
        "    gc.collect()"
      ]
    },
    {
      "cell_type": "markdown",
      "metadata": {
        "id": "4TpHHO3UevbY"
      },
      "source": [
        "# 來跟這個小模型用英文聊聊天吧"
      ]
    },
    {
      "cell_type": "code",
      "execution_count": null,
      "metadata": {
        "id": "M85l53w3chkD"
      },
      "outputs": [],
      "source": [
        "# 你要問的句子 \n",
        "sentence = \" Do you like me ? \"\n",
        "truncate = False\n",
        "top_k = 500\n",
        "temperature = 2.5\n",
        "sentence += \"<|endoftext|>\""
      ]
    },
    {
      "cell_type": "code",
      "execution_count": null,
      "metadata": {},
      "outputs": [],
      "source": [
        "def top_k_sampling(logits, k=50):\n",
        "    # Get the top k values and their indices\n",
        "    top_k_values, top_k_indices = torch.topk(logits, k)\n",
        "    # Create a tensor of -inf values and place the top-k values at their indices\n",
        "    top_k_logits = torch.full_like(logits, float('-inf'))\n",
        "    top_k_logits.scatter_(dim=-1, index=top_k_indices, src=top_k_values)\n",
        "    # Apply softmax to get probabilities\n",
        "    probs = F.softmax(top_k_logits, dim=-1)\n",
        "    return torch.multinomial(probs, 1).item()\n"
      ]
    },
    {
      "cell_type": "code",
      "execution_count": null,
      "metadata": {},
      "outputs": [],
      "source": [
        "def generate_response(prompt, max_new_tokens=50, top_k=20, temperature=0.8,\n",
        "                      stop_tokens=['<|endoftext|>'], truncate=True):\n",
        "\n",
        "    sentence = prompt\n",
        "    response = \"\"\n",
        "\n",
        "    for _ in range(max_new_tokens):\n",
        "        # Tokenize prompt\n",
        "        # Tokenize & vectorize\n",
        "        tokenized = tokenizer(sentence, return_tensors=\"pt\").to(device)\n",
        "        max_len   = tokenized[\"input_ids\"].size(1)\n",
        "\n",
        "        tokenized = tokenizer(sentence, add_special_tokens=False, padding='max_length',\n",
        "                              max_length=max_length, truncation=True, return_tensors=\"pt\").to(device)\n",
        "\n",
        "        with torch.no_grad():\n",
        "            input_vector = vectorizer(tokenized[\"input_ids\"]).hidden_states[-1]  # safer than hidden_states[-1]\n",
        "            logits = model(input_vector)[0, max_len-1]  # last token logits\n",
        "\n",
        "        # Sanitize logits\n",
        "        logits = torch.nan_to_num(logits, nan=-1e20, posinf=1e20, neginf=-1e20)\n",
        "\n",
        "        # Apply temperature\n",
        "        logits /= max(temperature, 1e-5)\n",
        "\n",
        "        # Top-k sampling\n",
        "        top_k = min(top_k, logits.size(-1))\n",
        "        topk_vals, topk_ids = torch.topk(logits, top_k)\n",
        "        probs = F.softmax(topk_vals, dim=-1)\n",
        "\n",
        "        if torch.isnan(probs).any() or torch.isinf(probs).any():\n",
        "            probs = torch.ones_like(probs) / probs.size(-1)\n",
        "\n",
        "        # Sample next token\n",
        "        sampled = torch.multinomial(probs, 1)\n",
        "        next_token_id = topk_ids[sampled].item()\n",
        "\n",
        "        # Decode and append token\n",
        "        next_word = tokenizer.decode([next_token_id], clean_up_tokenization_spaces=True).strip()\n",
        "        if next_word in stop_tokens:\n",
        "            print(\"\\n[END]\")\n",
        "            break\n",
        "\n",
        "        response += \" \" + next_word\n",
        "        sentence += \" \" + next_word\n",
        "\n",
        "        # Show progressive output\n",
        "        print(response, end=\"\\r\", flush=True)\n",
        "\n",
        "    print(\"\\n[END]\")\n",
        "    return response.strip()\n"
      ]
    },
    {
      "cell_type": "code",
      "execution_count": null,
      "metadata": {},
      "outputs": [],
      "source": [
        "\n",
        "response = generate_response(sentence, max_new_tokens=response_length, top_k=top_k, temperature=temperature, truncate=truncate)"
      ]
    },
    {
      "cell_type": "markdown",
      "metadata": {},
      "source": [
        "#  test"
      ]
    },
    {
      "cell_type": "code",
      "execution_count": null,
      "metadata": {},
      "outputs": [],
      "source": [
        "# 你要問的句子 \n",
        "sentence = \" Do you want to love me ? \"\n",
        "truncate = False\n",
        "top_k = 150\n",
        "temperature = 2.5\n",
        "sentence += \"<|endoftext|>\""
      ]
    },
    {
      "cell_type": "code",
      "execution_count": null,
      "metadata": {},
      "outputs": [],
      "source": [
        "def top_k_sampling(logits, k=50):\n",
        "    # Get the top k values and their indices\n",
        "    top_k_values, top_k_indices = torch.topk(logits, k)\n",
        "    # Create a tensor of -inf values and place the top-k values at their indices\n",
        "    top_k_logits = torch.full_like(logits, float('-inf'))\n",
        "    top_k_logits.scatter_(dim=-1, index=top_k_indices, src=top_k_values)\n",
        "    # Apply softmax to get probabilities\n",
        "    probs = F.softmax(top_k_logits, dim=-1)\n",
        "    return torch.multinomial(probs, 1).item()\n"
      ]
    },
    {
      "cell_type": "code",
      "execution_count": 1325,
      "metadata": {
        "id": "L6PUPm6AchkD"
      },
      "outputs": [
        {
          "name": "stdout",
          "output_type": "stream",
          "text": [
            " i know anything ?                                 :          �   \n"
          ]
        }
      ],
      "source": [
        "\n",
        "\n",
        "# 幫你的問題補上 [CSL] 以及 [SEP] ，讓機器可以知道問句的開始與結束\n",
        "\n",
        "# 機器的回答\n",
        "response = ''\n",
        "\n",
        "# 開始遞迴\n",
        "for i in range(response_length):\n",
        "\n",
        "    # Tokenize & vectorize\n",
        "    tokenized = tokenizer(sentence, return_tensors=\"pt\").to(device)\n",
        "    max_len   = tokenized[\"input_ids\"].size(1)\n",
        "\n",
        "    # 將 QA tokenize\n",
        "    tokenized_sentence = tokenizer(sentence, add_special_tokens=False, padding='max_length', max_length=max_length, truncation=True, return_tensors=\"pt\")\n",
        "\n",
        "    # 將 QA vectorize\n",
        "    input_id           = tokenized_sentence['input_ids'].to(device)\n",
        "    attention_mask     = tokenized_sentence['attention_mask'].to(device)\n",
        "    with torch.no_grad():\n",
        "        input_vector   = vectorizer(input_id).hidden_states[-1] \n",
        "    input_vector = input_vector.to(device)\n",
        "\n",
        "    # 將你的問題向量丟到模型去吧\n",
        "    model.eval()\n",
        "    last_logits                  = model(input_vector)[0, max_len-1] \n",
        "    last_logits = last_logits.to(device)\n",
        "    # last_logits[tokenizer.pad_token_id] = -float(\"inf\")\n",
        "    # last_logits[tokenizer.pad_token_id] = -float(\"inf\")\n",
        "    # last_logits[tokenizer.sep_token_id] = -float(\"inf\")\n",
        "\n",
        "    # 取 top_k\n",
        "    # values, topk_ids = torch.topk(last_logits, k=top_k)\n",
        "    # word = tokenizer.convert_ids_to_tokens(topk_ids.tolist())\n",
        "    # word = word[0]  # 取出第一個詞\n",
        "\n",
        "    # # 選擇最高概率的詞 \n",
        "    most_probable_token_idx = top_k_sampling(last_logits, k=top_k)\n",
        "    word = tokenizer.decode([most_probable_token_idx]).strip()\n",
        "\n",
        "    # # 將機器人吐出的那個字拼接回去\n",
        "    # while word in ['[PAD]']:\n",
        "    #     # output[0,  torch.sum(attention_mask) - 1,most_probable_token_idx] = float('-inf')\n",
        "    #     most_probable_token_idx = top_k_sampling(last_logits, k=top_k)\n",
        "    #     word = tokenizer.convert_ids_to_tokens(most_probable_token_idx)\n",
        "\n",
        "    if truncate:\n",
        "        if word not in ['<|endoftext|>']:\n",
        "            sentence += ' ' + word\n",
        "            response += ' ' + word\n",
        "            clear_output(wait=True)  # Clear the previous output\n",
        "            print(response, flush=False)\n",
        "            display()  # Display the updated output\n",
        "        else:\n",
        "            print('[END]')\n",
        "            break\n",
        "    else:\n",
        "        while word in ['<|endoftext|>']:\n",
        "            # output[0,  torch.sum(attention_mask) - 1 ,most_probable_token_idx] = float('-inf')\n",
        "            most_probable_token_idx = top_k_sampling(last_logits, k=top_k)\n",
        "            word = tokenizer.decode([most_probable_token_idx]).strip()\n",
        "        sentence += ' ' + word\n",
        "        response += ' ' + word\n",
        "        clear_output(wait=True)  # Clear the previous output\n",
        "        print(response, flush=False)\n",
        "        display()  # Display the updated output\n",
        "    time.sleep(0.1)\n"
      ]
    },
    {
      "cell_type": "code",
      "execution_count": 1326,
      "metadata": {
        "id": "0krnWZyBchkE"
      },
      "outputs": [],
      "source": [
        "# from google.colab import drive\n",
        "# drive.mount('/content/drive')\n",
        "# model_save_path = '/content/drive/My Drive/model.pth'\n",
        "# torch.save(model.state_dict(), model_save_path)\n"
      ]
    },
    {
      "cell_type": "code",
      "execution_count": null,
      "metadata": {
        "id": "sek0CVgtfCmR"
      },
      "outputs": [],
      "source": [
        "\n"
      ]
    },
    {
      "cell_type": "code",
      "execution_count": null,
      "metadata": {},
      "outputs": [],
      "source": []
    }
  ],
  "metadata": {
    "accelerator": "GPU",
    "colab": {
      "gpuType": "T4",
      "include_colab_link": true,
      "provenance": [],
      "toc_visible": true
    },
    "kernelspec": {
      "display_name": "llm",
      "language": "python",
      "name": "python3"
    },
    "language_info": {
      "codemirror_mode": {
        "name": "ipython",
        "version": 3
      },
      "file_extension": ".py",
      "mimetype": "text/x-python",
      "name": "python",
      "nbconvert_exporter": "python",
      "pygments_lexer": "ipython3",
      "version": "3.10.16"
    }
  },
  "nbformat": 4,
  "nbformat_minor": 0
}
